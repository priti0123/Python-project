{
 "cells": [
  {
   "cell_type": "code",
   "execution_count": null,
   "id": "5109cef6",
   "metadata": {},
   "outputs": [],
   "source": [
    "import cv2\n",
    "import  cvzone\n",
    "cap = cv2.VideoCapture(0)\n",
    "cascade = cv2.CascadeClassifier('haarcascade_frontalface_default.xml')\n",
    "overlay = cv2.imread('cool.png', cv2.IMREAD_UNCHANGED)\n",
    "while True:\n",
    "    _, frame = cap.read()\n",
    "    gray_scale = cv2.cvtColor(frame, cv2.COLOR_BGR2GRAY)\n",
    "    faces = cascade.detectMultiScale(gray_scale)\n",
    "    for (x, y, w, h) in faces:\n",
    "        # cv2.rectangle(frame,(x, y), (x+w, y+h), (0, 255, 0), 2)\n",
    "        overlay_resize = cv2.resize(overlay, (int(w*1.5), int(h*1.5)))\n",
    "        frame = cvzone.overlayPNG(frame, overlay_resize, [x-45, y-50])\n",
    "    cv2.imshow('Snap Dude', frame)\n",
    "    if cv2.waitKey(10) == ord('q'):\n",
    "        break"
   ]
  },
  {
   "cell_type": "code",
   "execution_count": null,
   "id": "b73fa963",
   "metadata": {},
   "outputs": [],
   "source": []
  }
 ],
 "metadata": {
  "kernelspec": {
   "display_name": "Python 3 (ipykernel)",
   "language": "python",
   "name": "python3"
  },
  "language_info": {
   "codemirror_mode": {
    "name": "ipython",
    "version": 3
   },
   "file_extension": ".py",
   "mimetype": "text/x-python",
   "name": "python",
   "nbconvert_exporter": "python",
   "pygments_lexer": "ipython3",
   "version": "3.11.5"
  }
 },
 "nbformat": 4,
 "nbformat_minor": 5
}
